{
 "cells": [
  {
   "cell_type": "markdown",
   "metadata": {},
   "source": [
    "## PROJECT PROPOSAL\n",
    "* Matt Moore\n",
    "* Ben Higley\n",
    "\n",
    "**BM MADNESS PREDICTION**"
   ]
  },
  {
   "cell_type": "markdown",
   "metadata": {},
   "source": [
    "**DATASET DESCRIPTION**\n",
    "1. Our group collected data on all NCAA teams season and postseason performance from the years 2013-2019 from Kaggle which is a very reliable website for large data sets. The data on the 2022 season was located at https://barttorvik.com/trank.php# which is a very official looking website with accurate season statistical data for NCAA teams, as well as how these teams seed in the tournament. We completed desk checks against the more respected ESPN data. \n",
    "1. The attributes we will use from this data set are all the season statistics a team has relative to their strength offensively and defensively as well as how they match up against various teams. One valuable statistic from this set that various data enthusiasts tend to use is the ADJOE which is a team's adjusted offensive efficiency. \n",
    "\n",
    "The attribute we will be attempting to predict with these other attributes is a teams final ranking in the tournament which is given for 2013-2019 in the “POSTSEASON” column. \n",
    "\n",
    "\n",
    "**IMPLEMENTATION/TECHNICAL MERIT**\n",
    "1. Anticipated challenges - basketball data for each given year is in its own separate spreadsheet so, we will need to clean unused attributes and compile the data together into one big data set. Data on the current 2022 season was very difficult to find and will take some time to set up in the same way as the Kaggle data. \n",
    "1. If the number of attributes is large - we will use intuition to determine which of the attributes are relevant, another option would be to train on different sets of attributes then pick attributes based on the accuracy of the different sets.\n",
    "\n",
    "\n",
    "**Potential impact of the results**\n",
    "1. Predicting results for the NCAA March Madness tournament correctly is a widely respected capability that very few people have, so building an algorithm to do this correctly would win the respect of many and making these accurate predictions could result in substantial monetary gains. \n",
    "1. The stakeholders in this machine learning project would be basketball fans, sports betters, or anyone looking to make money and are interested in the odds. There is a lot of media traction around people who have good march madness predictions so almost anyone is a stakeholder here.\n",
    "\n"
   ]
  }
 ],
 "metadata": {
  "language_info": {
   "name": "python"
  },
  "orig_nbformat": 4
 },
 "nbformat": 4,
 "nbformat_minor": 2
}
